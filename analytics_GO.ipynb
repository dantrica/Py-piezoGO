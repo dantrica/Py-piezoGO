{
  "cells": [
    {
      "cell_type": "markdown",
      "metadata": {
        "id": "view-in-github",
        "colab_type": "text"
      },
      "source": [
        "<a href=\"https://colab.research.google.com/github/dantrica/cement-based-composites/blob/main/analytics_GO.ipynb\" target=\"_parent\"><img src=\"https://colab.research.google.com/assets/colab-badge.svg\" alt=\"Open In Colab\"/></a>"
      ]
    },
    {
      "cell_type": "markdown",
      "metadata": {
        "id": "EWu8BFhRmq4L"
      },
      "source": [
        "<h1 align=\"center\">Modulo de análisis de datos provenientes de voltamperometrías, esfuerzo mecánico y potencial de circuito abierto.</h1>\n",
        "\n",
        "<div align=\"right\">Daniel A. Triana-Camacho, PhD(c)<br>Jorge H. Quintero-Orozco, Dr.\n",
        "\n"
      ]
    },
    {
      "cell_type": "markdown",
      "source": [
        "# 0.0. Librerías de inicialización del módulo"
      ],
      "metadata": {
        "id": "eUg1zqSaC-Ia"
      }
    },
    {
      "cell_type": "markdown",
      "metadata": {
        "id": "-s4yvps98Mbe"
      },
      "source": [
        "# 0.1. Cargar My Drive en servidor Colab"
      ]
    },
    {
      "cell_type": "code",
      "execution_count": 1,
      "metadata": {
        "id": "2sy2AXW88UFq",
        "colab": {
          "base_uri": "https://localhost:8080/"
        },
        "outputId": "8ddaaa1a-701d-4ab7-d712-301b3aec9095"
      },
      "outputs": [
        {
          "output_type": "stream",
          "name": "stdout",
          "text": [
            "Mounted at /content/drive\n",
            "/content/drive/My Drive/Colab_DanielTriana\n"
          ]
        }
      ],
      "source": [
        "try: # Esto permite ejecución en ambiente local, sin afectar el uso en Colab\n",
        "    from google.colab import drive\n",
        "    drive.mount('/content/drive', force_remount=True)\n",
        "    basePath = '/content/drive/My Drive/Colab_DanielTriana'\n",
        "    %cd $basePath\n",
        "except:\n",
        "    pass"
      ]
    },
    {
      "cell_type": "markdown",
      "metadata": {
        "id": "zQB3XafF8V2Q"
      },
      "source": [
        "## 0.2. Cargar librerías del sistema"
      ]
    },
    {
      "cell_type": "code",
      "execution_count": 2,
      "metadata": {
        "id": "vdejkA5U83mY"
      },
      "outputs": [],
      "source": [
        "import sys\n",
        "import os\n",
        "working_dir = os.getcwd()\n",
        "script_dir = os.path.join(working_dir, 'scripts')\n",
        "if not script_dir in sys.path:\n",
        "    sys.path.append(script_dir)"
      ]
    },
    {
      "cell_type": "markdown",
      "metadata": {
        "id": "rBuNi2XRpT9v"
      },
      "source": [
        "## 0.3. Importando las librerias: lmfit, pro_data, ... desde ubicación en Google Drive.\n",
        "\n"
      ]
    },
    {
      "cell_type": "code",
      "execution_count": 3,
      "metadata": {
        "id": "xYHlb49k8ZuN",
        "colab": {
          "base_uri": "https://localhost:8080/"
        },
        "outputId": "6e71fe14-6be9-4c4e-fade-f2294e67ff9a"
      },
      "outputs": [
        {
          "output_type": "stream",
          "name": "stdout",
          "text": [
            "Looking in indexes: https://pypi.org/simple, https://us-python.pkg.dev/colab-wheels/public/simple/\n",
            "Collecting openpyxl==3.0.5\n",
            "  Downloading openpyxl-3.0.5-py2.py3-none-any.whl (242 kB)\n",
            "\u001b[K     |████████████████████████████████| 242 kB 4.5 MB/s \n",
            "\u001b[?25hRequirement already satisfied: et-xmlfile in /usr/local/lib/python3.7/dist-packages (from openpyxl==3.0.5) (1.1.0)\n",
            "Collecting jdcal\n",
            "  Downloading jdcal-1.4.1-py2.py3-none-any.whl (9.5 kB)\n",
            "Installing collected packages: jdcal, openpyxl\n",
            "  Attempting uninstall: openpyxl\n",
            "    Found existing installation: openpyxl 3.0.10\n",
            "    Uninstalling openpyxl-3.0.10:\n",
            "      Successfully uninstalled openpyxl-3.0.10\n",
            "Successfully installed jdcal-1.4.1 openpyxl-3.0.5\n"
          ]
        }
      ],
      "source": [
        "#!pip  install --upgrade pandas\n",
        "!pip install openpyxl==3.0.5\n",
        "import openpyxl\n",
        "import pandas as pd\n",
        "from pandas import ExcelWriter\n",
        "import numpy as np\n",
        "import seaborn as sns\n",
        "import matplotlib.pyplot as plt\n",
        "from scipy.optimize import basinhopping \n",
        "from scipy.interpolate import interp1d\n",
        "import scipy.stats as sta\n",
        "import scipy.optimize as opt\n",
        "import scipy.integrate as integral\n",
        "#try:\n",
        "#  from lmfit import Model\n",
        "#except:\n",
        "#  !pip install lmfit\n",
        "#try:\n",
        "#  import xlsxwriter\n",
        "#except:\n",
        "#  !pip install xlsxwriter\n",
        "#from semiCirclesEISModel import *"
      ]
    },
    {
      "cell_type": "markdown",
      "source": [
        "# 1.0. Correlación entre ensayos de esfuerzo mecánico y portencial de circuito abiero OCP."
      ],
      "metadata": {
        "id": "E4UM65DNDJ1R"
      }
    },
    {
      "cell_type": "markdown",
      "metadata": {
        "id": "6la190TBqnxk"
      },
      "source": [
        "## 1.1. Elegir muestras"
      ]
    },
    {
      "cell_type": "code",
      "execution_count": 4,
      "metadata": {
        "id": "hu_S40qPAua9",
        "colab": {
          "base_uri": "https://localhost:8080/"
        },
        "outputId": "3ad1d040-a74b-49bb-9798-a3d96478d154"
      },
      "outputs": [
        {
          "name": "stdout",
          "output_type": "stream",
          "text": [
            "elegir muestras entre (p39 - p50), ejemplo: p39 p44 ...] : p39\n"
          ]
        }
      ],
      "source": [
        "data = pd.read_excel('data/Medidas_GO_20220406.xlsx')\n",
        "#path_list = data.path\n",
        "#measure = ['OCP', 'f']\n",
        "\n",
        "ss1 = input(\"elegir muestras entre (p39 - p50), ejemplo: p39 p44 ...] : \")\n",
        "\n",
        "def to_list(string):\n",
        "    li = list(string.split(\" \"))\n",
        "    return li\n",
        "picked_samples = to_list(ss1)"
      ]
    },
    {
      "cell_type": "markdown",
      "source": [
        "## 1.2. Diccionario con DataFrames que contiene la información posicionada por muestra 'pxx'."
      ],
      "metadata": {
        "id": "9ARt0Opbypop"
      }
    },
    {
      "cell_type": "code",
      "source": [
        "# Recorrer sobre las muestras\n",
        "# En cada muestra recorrer sobre las medidas de interes para crear un nuevo data frame\n",
        "\n",
        "dic_info_by_sample = {}\n",
        "dic_info_by_sample = dic_info_by_sample.fromkeys(picked_samples)\n",
        "\n",
        "for ss1 in picked_samples:\n",
        "  s_sample = data['specimen'] == ss1\n",
        "  sx = data[s_sample]\n",
        "  s_measure = (sx['measure'] == 'OCP') | (sx['measure'] == 'f')\n",
        "  sx[s_measure] # DataFrame with electric-mechanic measurements by sample \"pxx\"\n",
        "  dic_info_by_sample[ss1] = sx[s_measure] # DataFrames e-m by pxx into dictionary \n",
        "\n",
        "dic_info_by_sample"
      ],
      "metadata": {
        "id": "BaGVJ7R4Snpd",
        "colab": {
          "base_uri": "https://localhost:8080/"
        },
        "outputId": "2c7d24ad-2f9c-4d5d-e180-dfafe9e874e2"
      },
      "execution_count": 6,
      "outputs": [
        {
          "output_type": "execute_result",
          "data": {
            "text/plain": [
              "{'p39':                   time specimen measure serie measurement_date  \\\n",
              " 0  2022-05-10 22:18:00      p39     OCP     1       2022-04-06   \n",
              " 12                 NaT      p39       f   NaN       2022-04-06   \n",
              " \n",
              "    sample_fabrication_date                             path start_curing_date  \\\n",
              " 0               2020-02-29  20220406_e_Malaga/OCP_p39_1.txt        2020-03-02   \n",
              " 12                     NaT          20220406_f_Malaga/f_p39               NaT   \n",
              " \n",
              "    end_curing_date     concentration_nc   nc   energy      solvent  \\\n",
              " 0       2020-04-12  0.2259 g / 80 g H2O   GO  Branson  Agua tipo I   \n",
              " 12             NaT                  NaN  NaN      NaN          NaN   \n",
              " \n",
              "    electric_field                                            remarks  \n",
              " 0         Ninguno  1)  Se preparó 0.2259 g de GO, el GO fue sonic...  \n",
              " 12            NaN                                                NaN  }"
            ]
          },
          "metadata": {},
          "execution_count": 6
        }
      ]
    },
    {
      "cell_type": "markdown",
      "source": [
        "## 1.3. Diccionario con los datos eléctricos y mecánicos por muestra 'pxx'"
      ],
      "metadata": {
        "id": "rNvumD2Ny6Ga"
      }
    },
    {
      "cell_type": "code",
      "source": [
        "dic_data_by_sample = {}\n",
        "dic_data_by_sample = dic_data_by_sample.fromkeys(picked_samples)\n",
        "\n",
        "for ss1 in picked_samples:\n",
        "  e_data = np.loadtxt('data/'+dic_info_by_sample[ss1].path.values[0]) # indice 1 : muestra, indice 2 : path de la medida, electrica [0] o mecánica [1]\n",
        "  e_t = e_data[:,0]*1e-3 #columna 1 tiempo en [s]\n",
        "  v = -e_data[:,1]*1e3 #columna 2 voltaje en [mV]\n",
        "  i = -e_data[:,2]*1e6 #columna 3 corriente en [uA]\n",
        "\n",
        "  m_data = pd.read_excel('data/'+dic_info_by_sample[ss1].path.values[1]+'.xlsx') # indice 1 : muestra, indice 2 : path de la medida, electrica [0] o mecánica [1]\n",
        "  m_data.columns = m_data.iloc[1]\n",
        "  m_data = m_data.drop([0,1,2])\n",
        "  m_t = m_data['Tiempo'] # Segundos\n",
        "  f = m_data['Fuerza']*9.8067/1000 # kN\n",
        "  pos = m_data['Posición'] # mm\n",
        "\n",
        "  dic_data_by_sample[ss1] = np.array([e_t, v, i, m_t, f, pos])\n",
        "\n",
        "dic_data_by_sample"
      ],
      "metadata": {
        "id": "QAcufOwTL64I",
        "colab": {
          "base_uri": "https://localhost:8080/"
        },
        "outputId": "31fd4659-603c-4a3e-e5aa-3c6427819cae"
      },
      "execution_count": 7,
      "outputs": [
        {
          "output_type": "stream",
          "name": "stderr",
          "text": [
            "/usr/local/lib/python3.7/dist-packages/ipykernel_launcher.py:17: VisibleDeprecationWarning: Creating an ndarray from ragged nested sequences (which is a list-or-tuple of lists-or-tuples-or ndarrays with different lengths or shapes) is deprecated. If you meant to do this, you must specify 'dtype=object' when creating the ndarray.\n"
          ]
        },
        {
          "output_type": "execute_result",
          "data": {
            "text/plain": [
              "{'p39': array([array([  2.558,   3.558,   4.558,   5.558,   6.558,   7.558,   8.558,\n",
              "                 9.558,  10.558,  11.558,  12.558,  13.558,  14.558,  15.558,\n",
              "                16.558,  17.558,  18.558,  19.558,  20.558,  21.558,  22.558,\n",
              "                23.558,  24.558,  25.558,  26.558,  27.558,  28.558,  29.558,\n",
              "                30.558,  31.558,  32.558,  33.558,  34.558,  35.558,  36.558,\n",
              "                37.558,  38.558,  39.558,  40.558,  41.558,  42.558,  43.558,\n",
              "                44.558,  45.558,  46.558,  47.558,  48.558,  49.558,  50.558,\n",
              "                51.558,  52.558,  53.558,  54.558,  55.558,  56.558,  57.558,\n",
              "                58.558,  59.558,  60.558,  61.558,  62.558,  63.558,  64.558,\n",
              "                65.558,  66.558,  67.558,  68.558,  69.558,  70.558,  71.558,\n",
              "                72.558,  73.558,  74.558,  75.558,  76.558,  77.558,  78.558,\n",
              "                79.558,  80.558,  81.558,  82.558,  83.558,  84.558,  85.558,\n",
              "                86.558,  87.558,  88.558,  89.558,  90.558,  91.558,  92.558,\n",
              "                93.558,  94.558,  95.558,  96.558,  97.558,  98.558,  99.558,\n",
              "               100.558, 101.558, 102.558, 103.558, 104.558, 105.558, 106.558,\n",
              "               107.558, 108.558, 109.558, 110.558, 111.558, 112.558, 113.558,\n",
              "               114.558, 115.558, 116.558, 117.558, 118.558, 119.558, 120.558,\n",
              "               121.558, 122.558, 123.558, 124.558, 125.558, 126.558, 127.558,\n",
              "               128.558, 129.558, 130.558, 131.558, 132.558, 133.558, 134.558,\n",
              "               135.558, 136.558, 137.558, 138.558, 139.558, 140.558, 141.558,\n",
              "               142.558, 143.558, 144.558, 145.558, 146.558, 147.558, 148.558,\n",
              "               149.558, 150.558, 151.558, 152.558, 153.558, 154.558, 155.558,\n",
              "               156.558, 157.558, 158.558, 159.558, 160.558])                 ,\n",
              "        array([ 1.567763,  1.803932,  2.162373,  2.555989,  3.167349,  3.825919,\n",
              "                4.336042,  4.966193,  5.581341,  6.226496,  6.916661,  7.801875,\n",
              "                8.762104,  9.632314, 10.21746 , 10.68257 , 11.04265 , 11.34272 ,\n",
              "               11.59779 , 11.82284 , 11.97288 , 12.03289 , 12.0629  , 12.00288 ,\n",
              "               11.76283 , 11.62779 , 11.56778 , 11.73282 , 12.00288 , 12.31796 ,\n",
              "               12.81308 , 13.23318 , 13.7283  , 14.20841 , 14.74854 , 15.34869 ,\n",
              "               16.02385 , 16.77403 , 17.40418 , 17.82428 , 18.13936 , 18.37942 ,\n",
              "               18.58946 , 18.76951 , 18.90454 , 18.96456 , 18.96456 , 18.91955 ,\n",
              "               18.76951 , 18.58946 , 18.39442 , 18.34941 , 18.52945 , 18.76951 ,\n",
              "               19.06958 , 19.42967 , 19.9698  , 20.31488 , 20.71998 , 21.18509 ,\n",
              "               21.72522 , 22.34036 , 23.00053 , 23.51065 , 23.84073 , 24.09579 ,\n",
              "               24.27583 , 24.42587 , 24.5609  , 24.65092 , 24.68093 , 24.63592 ,\n",
              "               24.5609  , 24.44087 , 24.21582 , 24.06578 , 24.06578 , 24.26083 ,\n",
              "               24.48588 , 24.74094 , 25.10103 , 25.58115 , 25.88122 , 26.27131 ,\n",
              "               26.72142 , 27.20154 , 27.77167 , 28.37181 , 29.26554 , 29.26554 ,\n",
              "               29.41486 , 29.56417 , 29.71349 , 29.71349 , 29.8628  , 29.8628  ,\n",
              "               29.8628  , 29.71349 , 29.56417 , 29.26554 , 29.11623 , 29.26554 ,\n",
              "               29.41486 , 29.71349 , 30.01211 , 30.31074 , 30.75868 , 31.05731 ,\n",
              "               31.50525 , 31.9532  , 32.40114 , 32.84908 , 33.44633 , 33.74496 ,\n",
              "               33.89428 , 34.04359 , 34.1929  , 34.34222 , 34.49153 , 34.49153 ,\n",
              "               34.34222 , 34.34222 , 34.1929  , 34.04359 , 33.89428 , 33.74496 ,\n",
              "               33.89428 , 34.1929  , 34.34222 , 34.64084 , 35.08879 , 35.38742 ,\n",
              "               35.68605 , 36.13399 , 36.58193 , 37.02987 , 37.47781 , 37.92576 ,\n",
              "               38.3737  , 38.52301 , 38.67232 , 38.82164 , 38.97095 , 38.97095 ,\n",
              "               38.97095 , 38.97095 , 38.82164 , 38.67232 , 38.52301 , 38.22438 ,\n",
              "               38.22438 , 38.07507 , 37.92576 , 37.77644 , 37.77644 , 37.77644 ,\n",
              "               37.77644 , 37.62713 , 37.62713 ])                                ,\n",
              "        array([0.06303432, 0.08976649, 0.110914  , 0.1343698 , 0.1758218 ,\n",
              "               0.2033731 , 0.2272012 , 0.2346475 , 0.2420938 , 0.2607095 ,\n",
              "               0.2867715 , 0.3247476 , 0.3590005 , 0.3522989 , 0.3150674 ,\n",
              "               0.2815591 , 0.2540079 , 0.2309244 , 0.211564  , 0.1936929 ,\n",
              "               0.1728433 , 0.1460367 , 0.1259317 , 0.1035928 , 0.07301235,\n",
              "               0.05730068, 0.05596035, 0.07703334, 0.1035421 , 0.1296786 ,\n",
              "               0.1691201 , 0.1869912 , 0.1996499 , 0.2070962 , 0.2219888 ,\n",
              "               0.2420938 , 0.2659219 , 0.2904947 , 0.2793252 , 0.2510293 ,\n",
              "               0.2249673 , 0.2011392 , 0.1840127 , 0.1698648 , 0.1557168 ,\n",
              "               0.1378457 , 0.1155069 , 0.0983804 , 0.07695888, 0.0600558 ,\n",
              "               0.0470248 , 0.04910976, 0.06928921, 0.09423427, 0.114786  ,\n",
              "               0.1406246 , 0.1691201 , 0.1706094 , 0.1743325 , 0.1907144 ,\n",
              "               0.2070962 , 0.2272012 , 0.2480508 , 0.231669  , 0.2063516 ,\n",
              "               0.1847574 , 0.1676309 , 0.1542276 , 0.1423135 , 0.1303994 ,\n",
              "               0.113273  , 0.09540188, 0.07926723, 0.06623623, 0.04925869,\n",
              "               0.04062099, 0.04873745, 0.06735317, 0.08805385, 0.1065951 ,\n",
              "               0.1281894 , 0.1497598 , 0.1512491 , 0.1564615 , 0.1706094 ,\n",
              "               0.1847574 , 0.2026285 , 0.2190103 , 0.1936929 , 0.1765664 ,\n",
              "               0.1586953 , 0.1445474 , 0.1341226 , 0.1244424 , 0.1125283 ,\n",
              "               0.09689114, 0.07963954, 0.07174648, 0.0548434 , 0.04188686,\n",
              "               0.03749355, 0.04970546, 0.06899135, 0.08552211, 0.1045101 ,\n",
              "               0.1220089 , 0.1345932 , 0.1398056 , 0.1527383 , 0.1579507 ,\n",
              "               0.1728433 , 0.1892251 , 0.1899698 , 0.1720987 , 0.1534829 ,\n",
              "               0.1385904 , 0.1274209 , 0.11923   , 0.1095498 , 0.09763577,\n",
              "               0.08038417, 0.07115078, 0.06117275, 0.04598232, 0.03637661,\n",
              "               0.03794033, 0.05372646, 0.07182094, 0.08529872, 0.1040634 ,\n",
              "               0.1190304 , 0.1264767 , 0.1307956 , 0.140997  , 0.1564615 ,\n",
              "               0.1668863 , 0.1832681 , 0.1706094 , 0.1512491 , 0.1356118 ,\n",
              "               0.1244424 , 0.1147622 , 0.1073159 , 0.09763577, 0.08291591,\n",
              "               0.07264003, 0.0628854 , 0.05134365, 0.03816372, 0.03324917,\n",
              "               0.0319833 , 0.03131313, 0.03071743, 0.03034512, 0.02989834,\n",
              "               0.02952602, 0.02915371, 0.02893032, 0.02863247])           ,\n",
              "        3        0\n",
              "        4        1\n",
              "        5        2\n",
              "        6        3\n",
              "        7        4\n",
              "              ...\n",
              "        153    150\n",
              "        154    151\n",
              "        155    152\n",
              "        156    153\n",
              "        157    154\n",
              "        Name: Tiempo, Length: 155, dtype: object,\n",
              "        3      0.064584\n",
              "        4      0.070632\n",
              "        5      0.125475\n",
              "        6      0.195483\n",
              "        7      0.294294\n",
              "                 ...\n",
              "        153     0.42296\n",
              "        154    0.285148\n",
              "        155    0.240161\n",
              "        156    0.242626\n",
              "        157    0.244231\n",
              "        Name: Fuerza, Length: 155, dtype: object,\n",
              "        3     -0.008058\n",
              "        4      0.004915\n",
              "        5      0.021513\n",
              "        6      0.038285\n",
              "        7      0.055226\n",
              "                 ...\n",
              "        153    0.074952\n",
              "        154    0.058079\n",
              "        155    0.050987\n",
              "        156    0.050964\n",
              "        157    0.050999\n",
              "        Name: Posición, Length: 155, dtype: object], dtype=object)}"
            ]
          },
          "metadata": {},
          "execution_count": 7
        }
      ]
    },
    {
      "cell_type": "markdown",
      "source": [
        "## 1.4. Interpolaciones para $v$, $i$, $F$ y $\\Delta L$ en función del tiempo $t$"
      ],
      "metadata": {
        "id": "QkkpnsFwL7tf"
      }
    },
    {
      "cell_type": "code",
      "source": [
        "def interpol(samples, dic_data, t_min_max=[2, 150], n=200):\n",
        "  dic_idata_by_sample = {}\n",
        "  dic_idata_by_sample = dic_idata_by_sample.fromkeys(samples)\n",
        "\n",
        "  for ss2 in dic_data.keys():\n",
        "    # medidas eléctricas\n",
        "    e_t = dic_data[ss2][0] # índice \"0\": tiempo en [s]\n",
        "    v = dic_data[ss2][1] # índice \"1\": voltaje en [mV]\n",
        "    i = dic_data[ss2][2] # índice \"2\": corriente en [uA]\n",
        "\n",
        "    # medidas mecánicas\n",
        "    m_t = dic_data[ss2][3] # índice \"3\": tiempo en [s]\n",
        "    try: # solución al error de np.array no tiene atributo values \n",
        "      m_tmi = m_t.values[0]\n",
        "      m_tma = m_t.values[-1]\n",
        "    except:\n",
        "      m_tmi = m_t[0]\n",
        "      m_tma = m_t[-1]\n",
        "    f = dic_data[ss2][4] # índice \"4\": fuerza en [kN]\n",
        "    pos = dic_data[ss2][5] # índice \"5\": deformación en [mm]\n",
        "\n",
        "    # interpolación de variables dependientes del tiempo v, i, f, pos\n",
        "    interpol_v = interp1d(e_t, v)\n",
        "    interpol_i = interp1d(e_t, i)\n",
        "    interpol_f = interp1d(m_t, f)\n",
        "    interpol_pos = interp1d(m_t, pos)\n",
        "    \n",
        "    # Determinación del intervalo de tiempo  tmin y tmax\n",
        "    if e_t[0] < m_tmi: #m_t.values[0]:\n",
        "      t_min = m_tmi#m_t.values[0]\n",
        "    else:\n",
        "      t_min = e_t[0]\n",
        "    if e_t[-1] < m_tma: #m_t.values[-1]:\n",
        "      t_max = e_t[-1]\n",
        "    else:\n",
        "      t_max = m_tma#m_t.values[-1]\n",
        "\n",
        "    if t_min_max[0] <= t_min:\n",
        "      print('Debe seleccionar un tiempo mínimo mayor a %.2f [s]' %t_min)\n",
        "    else:\n",
        "      t_min = t_min_max[0]\n",
        "    if t_min_max[-1] >= t_max:\n",
        "      print('Debe seleccionar un tiempo máximo menor a %.2f [s]' %t_max)\n",
        "    else:\n",
        "      t_max = t_min_max[-1]\n",
        "\n",
        "    i_t = np.linspace(t_min, t_max, n)\n",
        "\n",
        "    dic_idata_by_sample[ss2] = np.array([i_t, interpol_v(i_t), interpol_i(i_t), \n",
        "                                         i_t, interpol_f(i_t), interpol_pos(i_t)])\n",
        "    \n",
        "  return dic_idata_by_sample"
      ],
      "metadata": {
        "id": "vmPmylhyjmkS"
      },
      "execution_count": 8,
      "outputs": []
    },
    {
      "cell_type": "markdown",
      "source": [
        "## 1.5. Método de graficación que combina $v(t)$, $i(t)$, $F(t)$ y $\\Delta L(t)$"
      ],
      "metadata": {
        "id": "SpqRTT9QGR4e"
      }
    },
    {
      "cell_type": "code",
      "source": [
        "def plot_electromechanical(data, idata, option=0, marker='--', etiqueta='', dpi=90):\n",
        "  ax = plt.figure(num=0, dpi = dpi)\n",
        "\n",
        "  # Cantidades físicas sp\n",
        "  #time = 'Tiempo'\n",
        "  #force = 'Fuerza'\n",
        "  #strain = 'Deformación'\n",
        "  #uni_strain = r'Deformación unitaria'\n",
        "  #voltage = 'Voltaje'\n",
        "  #current = r'Corriente'\n",
        "  #resistence = r'Resistencia'\n",
        "  #DR_R0 = r'$\\frac{\\Delta R}{R_0}$'\n",
        "  #power = 'Potencia'\n",
        "  #force_area = r'$\\frac{F}{A}$'\n",
        "  #voltage_distance = r'$\\frac{V}{d}$'\n",
        "\n",
        "  # Cantidades físicas en\n",
        "  time = 'Time'\n",
        "  force = 'Load' # 'Strength'\n",
        "  strain = 'Deformation'\n",
        "  uni_strain = r'Strain'\n",
        "  voltage = 'Voltage'\n",
        "  current = r'Current'\n",
        "  resistence = r'Resistance'\n",
        "  DR_R0 = r'$\\frac{\\Delta R}{R_0}$'\n",
        "  power = 'Power'\n",
        "  force_area = r'Stress'\n",
        "  voltage_distance = r'$\\frac{V}{d}$'\n",
        "\n",
        "  # Unidades\n",
        "  u_time = ' [s]'\n",
        "  u_force = ' [N]'\n",
        "  u_strain = ' [mm]'\n",
        "  u_uni_strain = r' [$\\mu \\epsilon$]'\n",
        "  u_voltage = ' [mV]'\n",
        "  u_current = r' [$\\mu$A]'\n",
        "  u_resistence = r' [k$\\Omega$]'\n",
        "  u_DR_R0 = r' [$\\Omega/\\Omega$]'\n",
        "  u_power = ' [nW]'\n",
        "  u_force_area = r' [$N/m^2$]'\n",
        "  u_voltage_distance = r' [$V/m$]'\n",
        "\n",
        "\n",
        "  for ss2 in picked_samples:\n",
        "\n",
        "    # medidas eléctricas\n",
        "    e_t = data[ss2][0] # índice \"0\": tiempo en [s]\n",
        "    v = data[ss2][1] # índice \"1\": voltaje en [mV]\n",
        "    i = data[ss2][2] # índice \"2\": corriente en [uA]\n",
        "\n",
        "    i_e_t = idata[ss2][0] # índice \"0\": tiempo en [s]\n",
        "    i_v = idata[ss2][1] # índice \"1\": voltaje en [mV]\n",
        "    i_i = idata[ss2][2] # índice \"2\": corriente en [uA]\n",
        "\n",
        "    # medidas mecánicas\n",
        "    m_t = data[ss2][3] # índice \"3\": tiempo en [s]\n",
        "    f = data[ss2][4]*1000 # índice \"4\": fuerza en [N]\n",
        "    pos = data[ss2][5] # índice \"5\": deformación en [mm]\n",
        "\n",
        "    i_m_t = idata[ss2][3] # índice \"3\": tiempo en [s]\n",
        "    i_f = idata[ss2][4]*1000 # índice \"4\": fuerza en [N]\n",
        "    i_pos = idata[ss2][5] # índice \"5\": deformación en [mm]\n",
        "\n",
        "    norm = ''\n",
        "\n",
        "    if option == 0:\n",
        "      x, y, xlabel, ylabel = i_m_t, i_f, time+u_time, force+u_force\n",
        "    elif option == 1:\n",
        "      x, y, xlabel, ylabel = i_m_t, i_pos/60 * 1e6, time+u_time, uni_strain+u_uni_strain\n",
        "    elif option == 2:\n",
        "      x, y, xlabel, ylabel = i_pos/60 * 1e6, i_f, uni_strain+u_uni_strain, force+u_force\n",
        "    elif option == 3:\n",
        "      x, y, xlabel, ylabel = i_e_t, i_v, time+u_time, voltage+u_voltage\n",
        "    elif option == 4:\n",
        "     x, y, xlabel, ylabel = i_e_t, i_i, time+u_time, current+u_current\n",
        "    elif option == 5:\n",
        "      x, y, xlabel, ylabel = i_v, i_i, voltage+u_voltage, current+u_current\n",
        "    elif option == 6:\n",
        "      x, y, xlabel, ylabel = i_pos/60 * 1e6, i_v, uni_strain+u_uni_strain, voltage+u_voltage\n",
        "    elif option == 7:\n",
        "      x, y, xlabel, ylabel = i_f, i_v, force+u_force, voltage+u_voltage\n",
        "    elif option == 8:\n",
        "      x, y, xlabel, ylabel = i_pos/60 * 1e6, i_i, uni_strain+u_uni_strain, current+u_current\n",
        "    elif option == 9:\n",
        "      x, y, xlabel, ylabel = i_pos/60 * 1e6, i_v/i_i, uni_strain+u_uni_strain, resistence+u_resistence\n",
        "    elif option == 10:\n",
        "      x, y, xlabel, ylabel = i_f, i_v/i_i, force+u_force, resistence+u_resistence\n",
        "    elif option == 11:\n",
        "      x, y, xlabel, ylabel = i_e_t, i_v * i_i, time+u_time, power+u_power\n",
        "    elif option == 12:\n",
        "      x, y, xlabel, ylabel = i_e_t, i_v / i_i, time+u_time, resistence+u_resistence\n",
        "    elif option == 13:\n",
        "      R = i_v / i_i\n",
        "      R0 = R.min()\n",
        "      DR = R - R0\n",
        "      x, y, xlabel, ylabel = i_pos/60 * 1e6, DR / R0, uni_strain+u_uni_strain, DR_R0+u_DR_R0\n",
        "    elif option == 14:\n",
        "      R = i_v / i_i\n",
        "      R0 = R.min()\n",
        "      DR = R - R0\n",
        "      x, y, xlabel, ylabel = i_e_t, DR / R0, time+u_time, DR_R0\n",
        "    elif option == 15:\n",
        "      x, y, xlabel, ylabel = i_f*1e3 / (np.pi*(15e-3)**2), i_v*1e-3 / ( 20e-3 ), force_area+u_force_area, voltage_distance+u_voltage_distance\n",
        "    elif option == 16:\n",
        "      norm = 'Normalizada'\n",
        "      x, y, xlabel, ylabel = i_m_t, i_pos/i_pos.max(), time+u_time, uni_strain+' '+norm\n",
        "    elif option == 17:\n",
        "      norm = 'Normalizada'\n",
        "      x, y, xlabel, ylabel = i_e_t, i_i/i_i.max(), time+u_time, current+' '+norm\n",
        "    \n",
        "    # ------ Rutina temporal para regresión lineal -----------------------------\n",
        "    x = x.astype('float')\n",
        "    y = y.astype('float')\n",
        "    y_m = ( y.max() + y.min() ) / 2 \n",
        "    regre = sta.linregress(x, y)\n",
        "    #print(regre.slope/1e3/20e-3*np.pi*(15e-3)**2*1e5, r' *10^{-5} mVm/N') # g33\n",
        "    #print('\\n')\n",
        "    #print(regre.slope/1e6*1e12, r' pC/N') # d33\n",
        "    #print(y_m)\n",
        "    #print((y - y_m).max())\n",
        "    # --------------------------------------------------------------------------\n",
        "\n",
        "    if etiqueta == '':\n",
        "      lab = ss2\n",
        "    else:\n",
        "      lab = etiqueta\n",
        "    # Graficación de datos por muestra \"pxx\"\n",
        "    if norm == 'Normalizada':\n",
        "      plt.plot(x, y, marker, label=lab+' '+ylabel)\n",
        "      plt.xlabel(xlabel)\n",
        "      plt.ylabel(norm)\n",
        "      plt.title(norm+' vs '+xlabel)\n",
        "    else:\n",
        "      plt.plot(x, y, marker, label=lab)\n",
        "      plt.xlabel(xlabel)\n",
        "      plt.ylabel(ylabel)\n",
        "      plt.title(ylabel+' vs '+xlabel)\n",
        "    plt.legend()\n",
        "  #plt.ylim(-5, 31) # modificar para voltaje_load\n",
        "\n",
        "  #plt.show()\n",
        "  return xlabel, ylabel, ax, regre"
      ],
      "metadata": {
        "id": "Xf_nB3Q6WxR5"
      },
      "execution_count": 11,
      "outputs": []
    },
    {
      "cell_type": "markdown",
      "source": [
        "# 2.0. Llamado de métodos previos y presentación de datos"
      ],
      "metadata": {
        "id": "QmWLtIk4HCw1"
      }
    },
    {
      "cell_type": "code",
      "source": [
        "'''\n",
        "Existen xx opciones (0 - XX) para seleccionar el tipo de gráfico a presentar, \n",
        "dado un conjunto de muestras 'pxx'\n",
        "option = 0 --- fuerza vs tiempo\n",
        "option = 1 --- deformación unitaria vs tiempo\n",
        "option = 2 --- fuerza vs deformación unitaria\n",
        "option = 3 --- voltaje vs tiempo\n",
        "option = 4 --- corriente vs tiempo\n",
        "option = 5 --- corriente vs voltaje\n",
        "option = 6 --- voltaje vs deformación unitaria\n",
        "option = 7 --- voltaje vs fuerza\n",
        "option = 8 --- corriente vs deformación unitaria\n",
        "option = 9 --- resistencia vs deformacion unitaria\n",
        "option = 10 --- resistencia vs fuerza\n",
        "option = 11 --- potencia vs tiempo\n",
        "option = 12 --- resistencia vs tiempo\n",
        "option = 13 --- Delta de resistencia / R vs deformacion unitaria\n",
        "option = 14 --- Delta de resistencia / R vs tiempo\n",
        "option = 15 --- voltaje / distancia entre electrodos vs fuerza / área sección transversal\n",
        "option = 16 --- deformación unitaria normalizada vs tiempo\n",
        "option = 17 --- corriente normalizada vs tiempo\n",
        "'''\n",
        "idata = interpol(samples=picked_samples, dic_data=dic_data_by_sample,\n",
        "                 t_min_max=[0,19], n=500)\n",
        "data = dic_data_by_sample\n",
        "\n",
        "#xylabel = plot_electromechanical(data, idata, option=7, marker='--', etiqueta='', dpi=100)\n",
        "xylabel = plot_electromechanical(data, idata, option=7, marker='.', etiqueta='', dpi=300)\n",
        "\n",
        "ax = plt.gca() # get axis handle\n",
        "line = ax.lines[0] # get the first line, there might be more\n",
        "x = line.get_xdata() # get x data from figure\n",
        "y = line.get_ydata() # get y data from figure\n",
        "\n",
        "save_VL = 'outputs/fig_GO/'\n",
        "voltage_load = open(save_VL+picked_samples[0]+'_'+xylabel[1].split(' ')[0]+'_'+\n",
        "                    xylabel[0].split(' ')[0]+'.txt', mode='w+')\n",
        "for s in np.arange(len(x)):\n",
        "   voltage_load.write('%0.3f %0.3f\\n' %(x[s], y[s]))\n",
        "voltage_load.close()"
      ],
      "metadata": {
        "id": "NAtgCRfVSzfR",
        "colab": {
          "base_uri": "https://localhost:8080/",
          "height": 1000
        },
        "outputId": "b9936881-210c-4766-ccb6-43f7484daa17"
      },
      "execution_count": 94,
      "outputs": [
        {
          "output_type": "stream",
          "name": "stdout",
          "text": [
            "Debe seleccionar un tiempo mínimo mayor a 2.76 [s]\n"
          ]
        },
        {
          "output_type": "display_data",
          "data": {
            "text/plain": [
              "<Figure size 1800x1200 with 1 Axes>"
            ],
            "image/png": "[encoded data removed]"
          },
          "metadata": {
            "needs_background": "light"
          }
        }
      ]
    },
    {
      "cell_type": "markdown",
      "source": [
        "## 2.1. Cálculo de factor piezoeléctrico $d_{33}$"
      ],
      "metadata": {
        "id": "OUyE7IZ8zvj7"
      }
    },
    {
      "cell_type": "code",
      "source": [
        "# calculo d33 a partir de medidas de capacitana (CV) y pendientes opción 7\n",
        "# muestra: p39 p40 p41 ...\n",
        "# indice:   0   1    2 ...\n",
        "\n",
        "d = np.array([3680697.987536103, 4199307.964511792, 3457372.3030530754,\n",
        "              2796189.454996852, 3870193.1752305217, 2983896.788102214,\n",
        "              1596359.9563162734, 1048117.9160407293, 2336511.230140543,\n",
        "              1631255.1094868754, 2449825.521396303, 3106032.526835843])\n",
        "c = np.array([237.732, 290.109, 395.780, 339.791, 290.291, 330.374, 454.048, \n",
        "              414.039, 504.566, 380.482, 450.645, 277.588])*1e-6\n",
        "\n",
        "muestras = ['p39', 'p40', 'p41', 'p42', 'p43', 'p44', 'p45', 'p46', 'p47',\n",
        "            'p48', 'p49', 'p50']\n",
        "\n",
        "dic_c = {}\n",
        "i = -1\n",
        "for s in muestras:\n",
        "  i += 1\n",
        "  dic_c[s] = d[i] * c[i]\n",
        "\n",
        "dic_c"
      ],
      "metadata": {
        "colab": {
          "base_uri": "https://localhost:8080/"
        },
        "id": "WbElkluIp1O9",
        "outputId": "be3d5056-b8c7-4901-f2bd-6b8b2d48e794"
      },
      "execution_count": null,
      "outputs": [
        {
          "output_type": "execute_result",
          "data": {
            "text/plain": [
              "{'p39': 875.0196939729328,\n",
              " 'p40': 1218.2570342765514,\n",
              " 'p41': 1368.358810102346,\n",
              " 'p42': 950.1200111028354,\n",
              " 'p43': 1123.4822470308434,\n",
              " 'p44': 985.801917472481,\n",
              " 'p45': 724.8240454454913,\n",
              " 'p46': 433.96169383958744,\n",
              " 'p47': 1178.924125347093,\n",
              " 'p48': 620.6632065677853,\n",
              " 'p49': 1104.0016220896368,\n",
              " 'p50': 862.1973570593079}"
            ]
          },
          "metadata": {},
          "execution_count": 32
        }
      ]
    },
    {
      "cell_type": "markdown",
      "source": [
        "## 2.2. piezovoltaje simualción vs data\n",
        "\n",
        "En 1.1. debes seleccionar solo una muestra, para comparar con su respectiva simulación."
      ],
      "metadata": {
        "id": "JT7de-h4O1LF"
      }
    },
    {
      "cell_type": "code",
      "source": [
        "fname = 'OCP_'+picked_samples[0]+'_sim.png'\n",
        "get_path = 'data/20220406_e_Malaga/'\n",
        "save_fpath = 'outputs/fig_GO/simulated/'\n",
        "\n",
        "idata = interpol(samples=picked_samples, dic_data=dic_data_by_sample,\n",
        "                 t_min_max=[1,160], n=500)\n",
        "data = dic_data_by_sample\n",
        "\n",
        "xylabel = plot_electromechanical(data, idata, option=3, marker='.', etiqueta='Experimental data', dpi=300)\n",
        "\n",
        "ax = plt.gca() # get axis handle\n",
        "line = ax.lines[0] # get the first line, there might be more\n",
        "x = line.get_xdata() # get x data from figure\n",
        "y = line.get_ydata() # get y data from figure\n",
        "\n",
        "voltage_time = open(save_fpath+picked_samples[0]+'_'+xylabel[1].split(' ')[0]+'_'+\n",
        "                    xylabel[0].split(' ')[0]+'.txt', mode='w+')\n",
        "for s in np.arange(len(x)):\n",
        "   voltage_time.write('%0.3f %0.3f\\n' %(x[s], y[s]))\n",
        "voltage_time.close()\n",
        "\n",
        "OCP = np.loadtxt(get_path+'OCP_'+picked_samples[0]+'_sim.txt')\n",
        "ts = OCP[:,0]\n",
        "vs = OCP[:,1]\n",
        "isim = OCP[:,2]\n",
        "\n",
        "plt.plot(ts, vs*1000, '-k', label='Model')\n",
        "plt.legend()\n",
        "#plt.plot(ts, isim*3e6, '-k')\n",
        "\n",
        "plt.savefig(save_fpath+fname, dpi=300)"
      ],
      "metadata": {
        "id": "FxVqWYNFO0lJ"
      },
      "execution_count": null,
      "outputs": []
    },
    {
      "cell_type": "markdown",
      "source": [
        "## 2.3. Almacenamiento de figuras y rutas"
      ],
      "metadata": {
        "id": "uNZrrJkrH90t"
      }
    },
    {
      "cell_type": "code",
      "source": [
        "base_path = 'outputs/fig_GO/' # ruta base para guardar .png y .xls\n",
        "dpi_save = 300 # resolución en pixel con que será guardada la figura.\n",
        "df_dataA = pd.DataFrame([]) # DataFrame con resultados de los análisis de datos y gráficas.\n",
        "df_fig_path = pd.DataFrame([]) # DataFrame con paths de las figuras separados por tipos de gráfica.\n",
        "\n",
        "try: # se llaman archivos .xlsx con cálculos y paths de las figuras, si no existen sigue ejecutando el código.\n",
        "  df_dataA = pd.read_excel(base_path+'dataA_GO.xlsx', sheet_name=\"analytics\")\n",
        "  df_fig_path = pd.read_excel(base_path+'fig_GO.xlsx', sheet_name=\"figs\")\n",
        "except:\n",
        "  pass\n",
        "\n",
        "tmi = []\n",
        "tma = []\n",
        "sample = ''\n",
        "for ss3 in picked_samples: # nombre de muestra. \n",
        "  tmi = np.append(tmi, idata[ss3][0].min())\n",
        "  tma = np.append(tma, idata[ss3][0].max())\n",
        "  sample = ss3+'_'+sample\n",
        "\n",
        "tmin = '%0.2f' % np.mean(tmi) # tiempo inicial.\n",
        "tmax = '%0.2f' % np.mean(tma) # tiempo final.\n",
        "\n",
        "#tmin = '%0.2f' % idata[ss3][0].min() # tiempo inicial.\n",
        "#tmax = '%0.2f' % idata[ss3][0].max() # tiempo final.\n",
        "\n",
        "  # metodología para nombrar figuras en base al nombre de la muestra, tipo de gráfico\n",
        "  # y rango de tiempo representado.\n",
        "xl = xylabel[0]\n",
        "yl = xylabel[1]\n",
        "fig_name = sample+yl.split()[0]+'_'+xl.split()[0]+'_'+tmin+'_to_'+tmax+'.png'\n",
        "\n",
        "xylabel[2].savefig(base_path+fig_name, dpi=dpi_save) # guardando figura.\n",
        "\n",
        "column = yl+' vs '+xl # columna donde se etiquetará el titulo de la figura.\n",
        "\n",
        "  # pregunta si el encabezado de la columna se encuentra en el DataFrame cargado.\n",
        "k = df_fig_path.columns == column\n",
        "if k.sum() == 1:  \n",
        "  ds = df_fig_path[column] # convierte columna en DataSeries\n",
        "  idx = ds.last_valid_index() # último indice con celda escrita en el DataSeries\n",
        "  if df_fig_path.at[idx, column] != base_path+fig_name: # Evita repetir path\n",
        "    df_fig_path.at[idx+1, column] = base_path+fig_name # escribiendo el path de la figura.\n",
        "else:\n",
        "  df_fig_path.at[0, column] = base_path+fig_name # escribiendo el path de la figura.\n",
        "\n",
        "# Se crean archivos .xlsx con cálculos y paths de las figuras.\n",
        "df_dataA.to_excel(base_path+'dataA_GO.xlsx', sheet_name='analytics', index=False)\n",
        "df_fig_path.to_excel(base_path+'fig_GO.xlsx', sheet_name='figs', index=False)"
      ],
      "metadata": {
        "id": "fXlsT25duLFd"
      },
      "execution_count": null,
      "outputs": []
    },
    {
      "cell_type": "code",
      "source": [
        "df_fig_path"
      ],
      "metadata": {
        "colab": {
          "base_uri": "https://localhost:8080/",
          "height": 319
        },
        "id": "9Ese1Iee8j2n",
        "outputId": "b929c181-78d7-41a1-bc94-3e8b17e6eb6a"
      },
      "execution_count": null,
      "outputs": [
        {
          "output_type": "execute_result",
          "data": {
            "text/plain": [
              "                      Deformación [mm] vs Tiempo [s]  \\\n",
              "0  outputs/fig_GO/p40_p39_Deformación_Tiempo_2.36...   \n",
              "1                                                NaN   \n",
              "2                                                NaN   \n",
              "3                                                NaN   \n",
              "4                                                NaN   \n",
              "5                                                NaN   \n",
              "\n",
              "                     Fuerza [kN] vs Deformación [mm]  \\\n",
              "0  outputs/fig_GO/p40_p39_Fuerza_Deformación_2.36...   \n",
              "1                                                NaN   \n",
              "2                                                NaN   \n",
              "3                                                NaN   \n",
              "4                                                NaN   \n",
              "5                                                NaN   \n",
              "\n",
              "                          Voltaje [mV] vs Tiempo [s]  \\\n",
              "0  outputs/fig_GO/p40_p39_Voltaje_Tiempo_2.36_to_...   \n",
              "1  outputs/fig_GO/p42_p41_Voltaje_Tiempo_2.26_to_...   \n",
              "2  outputs/fig_GO/p44_p43_Voltaje_Tiempo_2.36_to_...   \n",
              "3  outputs/fig_GO/p44_p43_p42_p41_Voltaje_Tiempo_...   \n",
              "4  outputs/fig_GO/p50_p49_p48_p47_Voltaje_Tiempo_...   \n",
              "5  outputs/fig_GO/p41_p40_p39_Voltaje_Tiempo_2.29...   \n",
              "\n",
              "                    Corriente [$\\mu$A] vs Tiempo [s]  \\\n",
              "0  outputs/fig_GO/p40_p39_Corriente_Tiempo_2.36_t...   \n",
              "1  outputs/fig_GO/p42_p41_Corriente_Tiempo_2.26_t...   \n",
              "2  outputs/fig_GO/p44_p43_Corriente_Tiempo_2.36_t...   \n",
              "3  outputs/fig_GO/p44_p43_p42_p41_Corriente_Tiemp...   \n",
              "4  outputs/fig_GO/p50_p49_p48_p47_Corriente_Tiemp...   \n",
              "5                                                NaN   \n",
              "\n",
              "              Corriente [$\\mu$A] vs Deformación [mm]  \\\n",
              "0  outputs/fig_GO/p41_p40_p39_Corriente_Deformaci...   \n",
              "1                                                NaN   \n",
              "2                                                NaN   \n",
              "3                                                NaN   \n",
              "4                                                NaN   \n",
              "5                                                NaN   \n",
              "\n",
              "  Voltaje [mV] vs Deformación unitaria [$\\mu \\epsilon$]  \\\n",
              "0  outputs/fig_GO/p40_Voltaje_Deformación_2.16_to...      \n",
              "1                                                NaN      \n",
              "2                                                NaN      \n",
              "3                                                NaN      \n",
              "4                                                NaN      \n",
              "5                                                NaN      \n",
              "\n",
              "  Resistencia [k$\\Omega$] vs Deformación unitaria [$\\mu \\epsilon$]  \\\n",
              "0  outputs/fig_GO/p40_Resistencia_Deformación_2.1...                 \n",
              "1                                                NaN                 \n",
              "2                                                NaN                 \n",
              "3                                                NaN                 \n",
              "4                                                NaN                 \n",
              "5                                                NaN                 \n",
              "\n",
              "                            Voltage [mV] vs Time [s]  \\\n",
              "0  outputs/fig_GO/p44_p43_p42_p41_p40_p39_Voltage...   \n",
              "1                                                NaN   \n",
              "2                                                NaN   \n",
              "3                                                NaN   \n",
              "4                                                NaN   \n",
              "5                                                NaN   \n",
              "\n",
              "                           Voltage [mV] vs Load [kN]  \\\n",
              "0  outputs/fig_GO/p39_Voltage_Load_2.56_to_16.00.png   \n",
              "1  outputs/fig_GO/p44_p43_p42_p41_p40_p39_Voltage...   \n",
              "2                                                NaN   \n",
              "3                                                NaN   \n",
              "4                                                NaN   \n",
              "5                                                NaN   \n",
              "\n",
              "                            Voltage [mV] vs Load [N]  \n",
              "0  outputs/fig_GO/p44_p41_p40_Voltage_Load_2.22_t...  \n",
              "1  outputs/fig_GO/p49_p48_p45_Voltage_Load_2.62_t...  \n",
              "2                                                NaN  \n",
              "3                                                NaN  \n",
              "4                                                NaN  \n",
              "5                                                NaN  "
            ],
            "text/html": [
              "\n",
              "  <div id=\"df-53c418f4-9a25-4d30-9a53-3b10befe9d7a\">\n",
              "    <div class=\"colab-df-container\">\n",
              "      <div>\n",
              "<style scoped>\n",
              "    .dataframe tbody tr th:only-of-type {\n",
              "        vertical-align: middle;\n",
              "    }\n",
              "\n",
              "    .dataframe tbody tr th {\n",
              "        vertical-align: top;\n",
              "    }\n",
              "\n",
              "    .dataframe thead th {\n",
              "        text-align: right;\n",
              "    }\n",
              "</style>\n",
              "<table border=\"1\" class=\"dataframe\">\n",
              "  <thead>\n",
              "    <tr style=\"text-align: right;\">\n",
              "      <th></th>\n",
              "      <th>Deformación [mm] vs Tiempo [s]</th>\n",
              "      <th>Fuerza [kN] vs Deformación [mm]</th>\n",
              "      <th>Voltaje [mV] vs Tiempo [s]</th>\n",
              "      <th>Corriente [$\\mu$A] vs Tiempo [s]</th>\n",
              "      <th>Corriente [$\\mu$A] vs Deformación [mm]</th>\n",
              "      <th>Voltaje [mV] vs Deformación unitaria [$\\mu \\epsilon$]</th>\n",
              "      <th>Resistencia [k$\\Omega$] vs Deformación unitaria [$\\mu \\epsilon$]</th>\n",
              "      <th>Voltage [mV] vs Time [s]</th>\n",
              "      <th>Voltage [mV] vs Load [kN]</th>\n",
              "      <th>Voltage [mV] vs Load [N]</th>\n",
              "    </tr>\n",
              "  </thead>\n",
              "  <tbody>\n",
              "    <tr>\n",
              "      <th>0</th>\n",
              "      <td>outputs/fig_GO/p40_p39_Deformación_Tiempo_2.36...</td>\n",
              "      <td>outputs/fig_GO/p40_p39_Fuerza_Deformación_2.36...</td>\n",
              "      <td>outputs/fig_GO/p40_p39_Voltaje_Tiempo_2.36_to_...</td>\n",
              "      <td>outputs/fig_GO/p40_p39_Corriente_Tiempo_2.36_t...</td>\n",
              "      <td>outputs/fig_GO/p41_p40_p39_Corriente_Deformaci...</td>\n",
              "      <td>outputs/fig_GO/p40_Voltaje_Deformación_2.16_to...</td>\n",
              "      <td>outputs/fig_GO/p40_Resistencia_Deformación_2.1...</td>\n",
              "      <td>outputs/fig_GO/p44_p43_p42_p41_p40_p39_Voltage...</td>\n",
              "      <td>outputs/fig_GO/p39_Voltage_Load_2.56_to_16.00.png</td>\n",
              "      <td>outputs/fig_GO/p44_p41_p40_Voltage_Load_2.22_t...</td>\n",
              "    </tr>\n",
              "    <tr>\n",
              "      <th>1</th>\n",
              "      <td>NaN</td>\n",
              "      <td>NaN</td>\n",
              "      <td>outputs/fig_GO/p42_p41_Voltaje_Tiempo_2.26_to_...</td>\n",
              "      <td>outputs/fig_GO/p42_p41_Corriente_Tiempo_2.26_t...</td>\n",
              "      <td>NaN</td>\n",
              "      <td>NaN</td>\n",
              "      <td>NaN</td>\n",
              "      <td>NaN</td>\n",
              "      <td>outputs/fig_GO/p44_p43_p42_p41_p40_p39_Voltage...</td>\n",
              "      <td>outputs/fig_GO/p49_p48_p45_Voltage_Load_2.62_t...</td>\n",
              "    </tr>\n",
              "    <tr>\n",
              "      <th>2</th>\n",
              "      <td>NaN</td>\n",
              "      <td>NaN</td>\n",
              "      <td>outputs/fig_GO/p44_p43_Voltaje_Tiempo_2.36_to_...</td>\n",
              "      <td>outputs/fig_GO/p44_p43_Corriente_Tiempo_2.36_t...</td>\n",
              "      <td>NaN</td>\n",
              "      <td>NaN</td>\n",
              "      <td>NaN</td>\n",
              "      <td>NaN</td>\n",
              "      <td>NaN</td>\n",
              "      <td>NaN</td>\n",
              "    </tr>\n",
              "    <tr>\n",
              "      <th>3</th>\n",
              "      <td>NaN</td>\n",
              "      <td>NaN</td>\n",
              "      <td>outputs/fig_GO/p44_p43_p42_p41_Voltaje_Tiempo_...</td>\n",
              "      <td>outputs/fig_GO/p44_p43_p42_p41_Corriente_Tiemp...</td>\n",
              "      <td>NaN</td>\n",
              "      <td>NaN</td>\n",
              "      <td>NaN</td>\n",
              "      <td>NaN</td>\n",
              "      <td>NaN</td>\n",
              "      <td>NaN</td>\n",
              "    </tr>\n",
              "    <tr>\n",
              "      <th>4</th>\n",
              "      <td>NaN</td>\n",
              "      <td>NaN</td>\n",
              "      <td>outputs/fig_GO/p50_p49_p48_p47_Voltaje_Tiempo_...</td>\n",
              "      <td>outputs/fig_GO/p50_p49_p48_p47_Corriente_Tiemp...</td>\n",
              "      <td>NaN</td>\n",
              "      <td>NaN</td>\n",
              "      <td>NaN</td>\n",
              "      <td>NaN</td>\n",
              "      <td>NaN</td>\n",
              "      <td>NaN</td>\n",
              "    </tr>\n",
              "    <tr>\n",
              "      <th>5</th>\n",
              "      <td>NaN</td>\n",
              "      <td>NaN</td>\n",
              "      <td>outputs/fig_GO/p41_p40_p39_Voltaje_Tiempo_2.29...</td>\n",
              "      <td>NaN</td>\n",
              "      <td>NaN</td>\n",
              "      <td>NaN</td>\n",
              "      <td>NaN</td>\n",
              "      <td>NaN</td>\n",
              "      <td>NaN</td>\n",
              "      <td>NaN</td>\n",
              "    </tr>\n",
              "  </tbody>\n",
              "</table>\n",
              "</div>\n",
              "      <button class=\"colab-df-convert\" onclick=\"convertToInteractive('df-53c418f4-9a25-4d30-9a53-3b10befe9d7a')\"\n",
              "              title=\"Convert this dataframe to an interactive table.\"\n",
              "              style=\"display:none;\">\n",
              "        \n",
              "  <svg xmlns=\"http://www.w3.org/2000/svg\" height=\"24px\"viewBox=\"0 0 24 24\"\n",
              "       width=\"24px\">\n",
              "    <path d=\"M0 0h24v24H0V0z\" fill=\"none\"/>\n",
              "    <path d=\"M18.56 5.44l.94 2.06.94-2.06 2.06-.94-2.06-.94-.94-2.06-.94 2.06-2.06.94zm-11 1L8.5 8.5l.94-2.06 2.06-.94-2.06-.94L8.5 2.5l-.94 2.06-2.06.94zm10 10l.94 2.06.94-2.06 2.06-.94-2.06-.94-.94-2.06-.94 2.06-2.06.94z\"/><path d=\"M17.41 7.96l-1.37-1.37c-.4-.4-.92-.59-1.43-.59-.52 0-1.04.2-1.43.59L10.3 9.45l-7.72 7.72c-.78.78-.78 2.05 0 2.83L4 21.41c.39.39.9.59 1.41.59.51 0 1.02-.2 1.41-.59l7.78-7.78 2.81-2.81c.8-.78.8-2.07 0-2.86zM5.41 20L4 18.59l7.72-7.72 1.47 1.35L5.41 20z\"/>\n",
              "  </svg>\n",
              "      </button>\n",
              "      \n",
              "  <style>\n",
              "    .colab-df-container {\n",
              "      display:flex;\n",
              "      flex-wrap:wrap;\n",
              "      gap: 12px;\n",
              "    }\n",
              "\n",
              "    .colab-df-convert {\n",
              "      background-color: #E8F0FE;\n",
              "      border: none;\n",
              "      border-radius: 50%;\n",
              "      cursor: pointer;\n",
              "      display: none;\n",
              "      fill: #1967D2;\n",
              "      height: 32px;\n",
              "      padding: 0 0 0 0;\n",
              "      width: 32px;\n",
              "    }\n",
              "\n",
              "    .colab-df-convert:hover {\n",
              "      background-color: #E2EBFA;\n",
              "      box-shadow: 0px 1px 2px rgba(60, 64, 67, 0.3), 0px 1px 3px 1px rgba(60, 64, 67, 0.15);\n",
              "      fill: #174EA6;\n",
              "    }\n",
              "\n",
              "    [theme=dark] .colab-df-convert {\n",
              "      background-color: #3B4455;\n",
              "      fill: #D2E3FC;\n",
              "    }\n",
              "\n",
              "    [theme=dark] .colab-df-convert:hover {\n",
              "      background-color: #434B5C;\n",
              "      box-shadow: 0px 1px 3px 1px rgba(0, 0, 0, 0.15);\n",
              "      filter: drop-shadow(0px 1px 2px rgba(0, 0, 0, 0.3));\n",
              "      fill: #FFFFFF;\n",
              "    }\n",
              "  </style>\n",
              "\n",
              "      <script>\n",
              "        const buttonEl =\n",
              "          document.querySelector('#df-53c418f4-9a25-4d30-9a53-3b10befe9d7a button.colab-df-convert');\n",
              "        buttonEl.style.display =\n",
              "          google.colab.kernel.accessAllowed ? 'block' : 'none';\n",
              "\n",
              "        async function convertToInteractive(key) {\n",
              "          const element = document.querySelector('#df-53c418f4-9a25-4d30-9a53-3b10befe9d7a');\n",
              "          const dataTable =\n",
              "            await google.colab.kernel.invokeFunction('convertToInteractive',\n",
              "                                                     [key], {});\n",
              "          if (!dataTable) return;\n",
              "\n",
              "          const docLinkHtml = 'Like what you see? Visit the ' +\n",
              "            '<a target=\"_blank\" href=https://colab.research.google.com/notebooks/data_table.ipynb>data table notebook</a>'\n",
              "            + ' to learn more about interactive tables.';\n",
              "          element.innerHTML = '';\n",
              "          dataTable['output_type'] = 'display_data';\n",
              "          await google.colab.output.renderOutput(dataTable, element);\n",
              "          const docLink = document.createElement('div');\n",
              "          docLink.innerHTML = docLinkHtml;\n",
              "          element.appendChild(docLink);\n",
              "        }\n",
              "      </script>\n",
              "    </div>\n",
              "  </div>\n",
              "  "
            ]
          },
          "metadata": {},
          "execution_count": 89
        }
      ]
    },
    {
      "cell_type": "markdown",
      "source": [
        "# 3.0. Analisis voltamperogramas\n",
        "\n",
        "En 1.1. se debe seleccionar solo una muestra, entre p39, p40 y p41"
      ],
      "metadata": {
        "id": "8baUYI7SWcSi"
      }
    },
    {
      "cell_type": "code",
      "source": [
        "# Recorrer sobre las muestras\n",
        "# En cada muestra recorrer sobre las medidas de interes para crear un nuevo data frame\n",
        "\n",
        "dic_info_by_sample = {}\n",
        "dic_info_by_sample = dic_info_by_sample.fromkeys(picked_samples)\n",
        "\n",
        "for ss1 in picked_samples:\n",
        "  s_sample = data['specimen'] == ss1\n",
        "  sx = data[s_sample]\n",
        "  s_measure = (sx['measure'] == 'CV')\n",
        "  sx[s_measure] # DataFrame with electric-mechanic measurements by sample \"pxx\"\n",
        "  dic_info_by_sample[ss1] = sx[s_measure] # DataFrames e-m by pxx into dictionary \n",
        "\n",
        "dic_info_by_sample"
      ],
      "metadata": {
        "id": "TDqkGGRXX1kv"
      },
      "execution_count": null,
      "outputs": []
    },
    {
      "cell_type": "code",
      "source": [
        "# Diccionario con los datos eléctricos de los voltamperogramas de cada muestra pxx a diferentes fuerzas\n",
        "\n",
        "dic_data_by_load = {}\n",
        "\n",
        "for ss1 in picked_samples:\n",
        "  for ss2 in dic_info_by_sample[ss1].path.values:\n",
        "    sl1 = ss2.split(\"kg\") # separa path en una lista donde el elemento 5 es la carga en kg\n",
        "    sl2 = list(sl1[0].split(\"_\"))\n",
        "    e_data = np.loadtxt('data/'+ss2) # indice 1 : muestra, indice 2 : path de la medida, electrica [0] o mecánica [1]\n",
        "    #print(ss2)\n",
        "    e_t = e_data[:,0]*1e-3 #columna 1 tiempo en [s]\n",
        "    v = e_data[:,1]*1e3 #columna 2 voltaje en [mV]\n",
        "    i = e_data[:,2]*1e6 #columna 3 corriente en [uA]\n",
        "    \n",
        "    dic_data_by_load[ss1+'_'+sl2[4]] = np.array([e_t, v, i])\n",
        "\n",
        "#dic_data_by_load"
      ],
      "metadata": {
        "id": "q5CQXUQ8aWBK"
      },
      "execution_count": null,
      "outputs": []
    },
    {
      "cell_type": "code",
      "source": [
        "dpi = 300\n",
        "plt.figure(1)\n",
        "fname_cv = 'CV_'+picked_samples[0]+'.png'\n",
        "fname_c = 'C_'+picked_samples[0]+'.png'\n",
        "fname_q = 'Q_'+picked_samples[0]+'.png'\n",
        "save_fpath = 'outputs/fig_GO/voltammetry/'\n",
        "\n",
        "data_C = open(save_fpath+'cap_'+picked_samples[0]+'.txt', mode='w+')\n",
        "data_q = open(save_fpath+'charge_'+picked_samples[0]+'.txt', mode='w+')\n",
        "\n",
        "dic_cap = {}\n",
        "dic_q = {}\n",
        "xc = []\n",
        "yc = []\n",
        "xq = []\n",
        "yq = []\n",
        "\n",
        "for ss2 in dic_data_by_load.keys():\n",
        "  # medidas eléctricas\n",
        "  e_t = dic_data_by_load[ss2][0] # índice \"0\": tiempo en [s]\n",
        "  v = dic_data_by_load[ss2][1]/1e3 # índice \"1\": voltaje en [V]\n",
        "  i = dic_data_by_load[ss2][2] # índice \"2\": corriente en [uA]\n",
        "\n",
        "  sj = int(len(v)/2)  \n",
        "  i1 = i[0:sj]\n",
        "  v1 = v[0:sj]\n",
        "  i2 = i[sj:len(v)]\n",
        "  v2 = v[sj:len(v)]\n",
        "  \n",
        "  vmin = -0.44\n",
        "  vmax = v.max()\n",
        "\n",
        "  ss = (v >= vmin) & (v <= vmax)\n",
        "  ss0 = (v1 >= vmin) & (v1 <= vmax)\n",
        "  ss1 = (v2 >= vmin) & (v2 <= vmax)\n",
        "\n",
        "  iaux1 = i1[ss0] - i2.min()\n",
        "  vaux1 = v1[ss0]\n",
        "  iaux2 = i2[ss1] - i2.min()\n",
        "  vaux2 = v2[ss1]\n",
        "  \n",
        "  a1 = integral.simps(iaux1, vaux1)\n",
        "  a2 = integral.simps(iaux2, vaux2)\n",
        "  a = a1 - a2 # integral de la corriente en función del voltaje en la ventana de portencial\n",
        "  dic_cap[ss2] = 0.5 * a / 25e-3 / (vmax - vmin) # capacitancia para cada carga mecánica [uF]\n",
        "  dic_q[ss2] = 0.5 * a / 25e-3 # carga eléctrica para cada carga mecánica [uC]\n",
        "\n",
        "  #-----------------------------------------------------------------------------\n",
        "  # salvar datos de capacitancia y carga eléctrica en .txt y en listas xc y yc\n",
        "  xc_s = float(ss2.split('_')[1])*9.8067 # N\n",
        "  yc_s = dic_cap[ss2]\n",
        "  xc = np.append(xc, xc_s)\n",
        "  yc = np.append(yc, yc_s)\n",
        "  data_C.write('%0.3f %0.3f\\n' %(xc_s, yc_s))\n",
        "\n",
        "  xq_s = float(ss2.split('_')[1])*9.8067 # N\n",
        "  yq_s = dic_q[ss2]\n",
        "  xq = np.append(xq, xq_s)\n",
        "  yq = np.append(yq, yq_s)\n",
        "  data_q.write('%0.3f %0.3f\\n' %(xq_s, yq_s))\n",
        "  #-----------------------------------------------------------------------------\n",
        "\n",
        "  plt.plot(v[ss], i[ss], '-', label=ss2+' kg')\n",
        "\n",
        "\n",
        "data_C.close()\n",
        "data_q.close()\n",
        "\n",
        "plt.xlabel(r'Voltage [V]')\n",
        "plt.ylabel(r'Current [$\\mu$A]')\n",
        "plt.legend()\n",
        "plt.savefig(save_fpath+fname_cv, dpi=dpi)\n",
        "plt.show()\n",
        "\n",
        "plt.figure(2)\n",
        "plt.plot(xc, yc, 'o', label=picked_samples[0])\n",
        "plt.xlabel(r'Load [N]')\n",
        "plt.ylabel(r'Capacitance [$\\mu$F]')\n",
        "plt.ylim(0, yc.max())\n",
        "plt.legend()\n",
        "plt.savefig(save_fpath+fname_c, dpi=dpi)\n",
        "plt.show()\n",
        "\n",
        "plt.figure(3)\n",
        "plt.plot(xq, yq, 'o', label=picked_samples[0])\n",
        "plt.xlabel(r'Load [N]')\n",
        "plt.ylabel(r'Electrical charge [$\\mu$C]')\n",
        "plt.legend()\n",
        "plt.savefig(save_fpath+fname_q, dpi=dpi)\n",
        "plt.show()"
      ],
      "metadata": {
        "colab": {
          "base_uri": "https://localhost:8080/",
          "height": 803
        },
        "id": "sc69ckV-mTOC",
        "outputId": "a2d68cc3-9625-43c5-9972-32e64319b3d4"
      },
      "execution_count": null,
      "outputs": [
        {
          "output_type": "display_data",
          "data": {
            "text/plain": [
              "<Figure size 432x288 with 1 Axes>"
            ],
            "image/png": "[encoded data removed]"
          },
          "metadata": {
            "needs_background": "light"
          }
        },
        {
          "output_type": "display_data",
          "data": {
            "text/plain": [
              "<Figure size 432x288 with 1 Axes>"
            ],
            "image/png": "[encoded data removed]"
          },
          "metadata": {
            "needs_background": "light"
          }
        },
        {
          "output_type": "display_data",
          "data": {
            "text/plain": [
              "<Figure size 432x288 with 1 Axes>"
            ],
            "image/png": "[encoded data removed]"
          },
          "metadata": {
            "needs_background": "light"
          }
        }
      ]
    },
    {
      "cell_type": "code",
      "source": [
        "yc.std()"
      ],
      "metadata": {
        "colab": {
          "base_uri": "https://localhost:8080/"
        },
        "id": "aYj-ikzxu1M-",
        "outputId": "68cd39b6-cdc1-4246-9a29-481bbff6c9ef"
      },
      "execution_count": null,
      "outputs": [
        {
          "output_type": "execute_result",
          "data": {
            "text/plain": [
              "17.274865380098685"
            ]
          },
          "metadata": {},
          "execution_count": 9
        }
      ]
    },
    {
      "cell_type": "markdown",
      "source": [
        "# 4.0. Análisis particle size distribution"
      ],
      "metadata": {
        "id": "RSMZ6cgbcK1m"
      }
    },
    {
      "cell_type": "code",
      "source": [
        "fig_save_path = 'outputs/fig_GO'\n",
        "dpi = 300\n",
        "measurement = 'Measurement 1', 'Measurement 2', 'Measurement 3'\n",
        "#measu_type = 'AuNPs', 'GONPs', 'GraphiteNPs'\n",
        "file_name = 'Daniel Triana_GONPs_Branson_90_20200306', 'Daniel Triana_GONPs_punta_90_20200306'\n",
        "par_dia = 'Unnamed: 5' #Particle diameter [nm]\n",
        "rel_int = 'Unnamed: 6' #Relative frequency Intensity weighted [%]\n",
        "start_data = 7\n",
        "end_data = 148\n",
        "ps_fig_df = pd.DataFrame([])\n",
        "time_line_df = pd.DataFrame([])\n",
        "\n",
        "if not os.path.exists(fig_save_path):\n",
        "  os.mkdir(fig_save_path)\n",
        "\n",
        "index = -1\n",
        "label = 'Method 1', 'Method 2'\n",
        "mar = 's-', 'v-'\n",
        "plt.figure()\n",
        "\n",
        "for fn in file_name:\n",
        "  index += 1\n",
        "  data = pd.read_excel('data/20200306_DLS/'+fn+'.xlsx', sheet_name=measurement[0])\n",
        "  ps = data.loc[start_data:end_data, par_dia]\n",
        "  ri = data.loc[start_data:end_data, rel_int]\n",
        "  peak = max(ri)\n",
        "  s = ri == peak\n",
        "  ps_max = ps[s]\n",
        "  #time_line_df.at[index, 'time [days]'] = day\n",
        "  #time_line_df.at[index, 'surfactant'] = dis\n",
        "  #time_line_df.at[index, 'energy [kJ]'] = e\n",
        "  #time_line_df.at[index, 'Intensity [%]'] = peak.values[0]\n",
        "  #time_line_df.at[index, 'particle size [nm]'] = ps_max.values[0]\n",
        "  plt.plot(ps, ri, mar[index], label=label[index])\n",
        "  plt.plot(ps_max, peak, 'or')\n",
        "  print(ps_max, peak)\n",
        "\n",
        "plt.xlim(1e2, ps.max())\n",
        "plt.xscale('log')\n",
        "plt.xlabel('Particle size [nm]')\n",
        "plt.ylabel('Intensity [%]')\n",
        "fig_path = os.path.join(fig_save_path, u'ps_GO.png')\n",
        "plt.legend()\n",
        "#plt.title('DLS_day_'+day)\n",
        "plt.savefig(fig_path, dpi=dpi)\n",
        "plt.close()\n",
        "#ps_fig_df.at[index_f, 'energy'] = e\n",
        "#ps_fig_df.at[index_f, 'ps_day_'+day] = fig_path  \n",
        "    \n",
        "#time_line_df.to_excel('outputs/time_line_ps.xlsx', sheet_name='data', index=False)\n",
        "#print(time_line_df)\n",
        "#ps_fig_df.to_excel('outputs/ps_fig.xlsx', sheet_name='plots', index=False)\n",
        "#ps_fig_df"
      ],
      "metadata": {
        "colab": {
          "base_uri": "https://localhost:8080/"
        },
        "id": "0WF1LvH8cUo1",
        "outputId": "6477bef6-b611-439b-c894-c85f8c4556af"
      },
      "execution_count": 20,
      "outputs": [
        {
          "output_type": "stream",
          "name": "stdout",
          "text": [
            "100    391.279669\n",
            "Name: Unnamed: 5, dtype: object 14.6776997906788\n",
            "112    1034.184049\n",
            "Name: Unnamed: 5, dtype: object 6.14359290474918\n"
          ]
        }
      ]
    },
    {
      "cell_type": "markdown",
      "source": [
        "### Estadística de pendientes."
      ],
      "metadata": {
        "id": "yjqFlRiCFxgF"
      }
    },
    {
      "cell_type": "code",
      "source": [
        "# v vs t\n",
        "slopes_p40 = np.array([0.84996, 0.652643, 0.5944, 0.5876, 0.5164, 0.5229])\n",
        "np.mean(slopes_p40)\n",
        "\n",
        "# v vs pos\n",
        "slopes_p40 = np.array([51.86, 39.86, 35.98, 35.22, 31.31, 31.72])\n",
        "np.mean(slopes_p40)\n",
        "\n",
        "# v vs f\n",
        "slopes_p40 = np.array([4.1823, 3.2697, 2.8906, 2.8445, 2.5050, 2.5334])\n",
        "np.mean(slopes_p40)"
      ],
      "metadata": {
        "colab": {
          "base_uri": "https://localhost:8080/"
        },
        "id": "9hkTlB9lY1Y3",
        "outputId": "7acc606c-99d9-40c4-c843-055a7cd6e84a"
      },
      "execution_count": null,
      "outputs": [
        {
          "output_type": "execute_result",
          "data": {
            "text/plain": [
              "3.0375833333333335"
            ]
          },
          "metadata": {},
          "execution_count": 127
        }
      ]
    },
    {
      "cell_type": "code",
      "execution_count": null,
      "metadata": {
        "id": "vVzEKc-DjFqh"
      },
      "outputs": [],
      "source": [
        "fig_base_path = 'outputs/GO_Malaga'\n",
        "dpi = 300\n",
        "file_name = 'UV_day_1', 'UV_day_15', 'UV_day_30', 'UV_day_45', 'UV_day_90'\n",
        "time = np.array([1, 15, 30, 45, 90])\n",
        "energy = '190', '390', '590'\n",
        "surfactant = 'Sika ', 'Eucon ', 'Tx '\n",
        "\n",
        "UV_fig_df = pd.DataFrame([])\n",
        "time_line_df = pd.DataFrame([])\n",
        "\n",
        "if not os.path.exists(fig_base_path):\n",
        "  os.mkdir(fig_base_path)\n",
        "\n",
        "index = -1\n",
        "plt.figure(1)\n",
        "\n",
        "for day in file_name:\n",
        "  index_e = -1\n",
        "  for e in energy:\n",
        "    index_e += 1\n",
        "    for dis in surfactant:\n",
        "      data = pd.read_excel('data/20220406_e_Malaga/'+day+'.xlsx', sheet_name=\"Hoja1\")\n",
        "      wave = data['Wavelength (nm)1']\n",
        "      absorbance = data['Absorbance (AU)1']\n",
        "      s = np.int16(np.linspace(0, wave.size-1, 70))\n",
        "      wave_resize = wave[s]\n",
        "      absorbance_resize = absorbance[s]\n",
        "      a = 200\n",
        "      b = 400\n",
        "      ran = (wave_resize <= b) & (wave_resize >= a)\n",
        "      if dis == 'Sika ':\n",
        "        a_si = 220\n",
        "        b_si = b\n",
        "        ran_si = (wave <= b_si) & (wave >= a_si)\n",
        "        wave_si = wave[ran_si]\n",
        "        absorbance_si = absorbance[ran_si]\n",
        "        ss = absorbance_si == max(absorbance_si)\n",
        "        pi_plasmon = wave_si[ss]\n",
        "        peak = absorbance_si[ss]\n",
        "      if dis == 'Eucon ':\n",
        "        a_eu = 275\n",
        "        b_eu = b\n",
        "        ran_eu = (wave <= b_eu) & (wave >= a_eu)\n",
        "        wave_eu = wave[ran_eu]\n",
        "        absorbance_eu = absorbance[ran_eu]\n",
        "        ss = absorbance_eu == max(absorbance_eu)\n",
        "        pi_plasmon = wave_eu[ss]\n",
        "        peak = absorbance_eu[ss]\n",
        "      if dis == 'Tx ':\n",
        "        a_tx = 250\n",
        "        b_tx = b\n",
        "        ran_tx = (wave <= b_tx) & (wave >= a_tx)\n",
        "        wave_tx = wave[ran_tx]\n",
        "        absorbance_tx = absorbance[ran_tx]\n",
        "        ss = absorbance_tx == max(absorbance_tx)\n",
        "        pi_plasmon = wave_tx[ss]\n",
        "        peak = absorbance_tx[ss]\n",
        "\n",
        "      index += 1\n",
        "      t = [int(sss) for sss in day.split('_') if sss.isdigit()]\n",
        "      time_line_df.at[index, 'time [days]'] = t[0]\n",
        "      time_line_df.at[index, 'surfactant'] = dis\n",
        "      time_line_df.at[index, 'energy [kJ]'] = e\n",
        "      time_line_df.at[index, 'plasmon_abs [AU]'] = peak.values[0]\n",
        "      time_line_df.at[index, 'plasmon_wave [nm]'] = pi_plasmon.values[0]\n",
        "\n",
        "      label = dis+e+u', $\\pi-plasmon$ = '+str(pi_plasmon.values[0])+' nm, Ab_peak = '+str(peak.values[0])+' AU'\n",
        "      plt.plot(pi_plasmon, peak, 'or')\n",
        "      plt.plot(wave_resize[ran], absorbance_resize[ran], '--', label=label)\n",
        "    plt.xlabel('Wavelength [nm]')\n",
        "    plt.ylabel('Absorbance [AU]')\n",
        "    fig_path = os.path.join(fig_base_path, u'%s_%s.png' % (day, e))\n",
        "    plt.legend()\n",
        "    plt.title(day)\n",
        "    plt.savefig(fig_path, dpi=dpi)\n",
        "    plt.close()\n",
        "    UV_fig_df.at[index_e, 'energy'] = e\n",
        "    UV_fig_df.at[index_e, day] = fig_path  \n",
        "    \n",
        "time_line_df.to_excel('outputs/time_line_plasmon.xlsx', sheet_name='data', index=False)\n",
        "print(time_line_df)\n",
        "UV_fig_df.to_excel('outputs/UV_fig.xlsx', sheet_name='plots', index=False)\n",
        "UV_fig_df"
      ]
    }
  ],
  "metadata": {
    "colab": {
      "collapsed_sections": [],
      "name": "analytics_GO.ipynb",
      "provenance": [],
      "toc_visible": true,
      "include_colab_link": true
    },
    "kernelspec": {
      "display_name": "Python 3",
      "language": "python",
      "name": "python3"
    }
  },
  "nbformat": 4,
  "nbformat_minor": 0
}